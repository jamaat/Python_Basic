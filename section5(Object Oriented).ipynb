{
 "cells": [
  {
   "cell_type": "code",
   "execution_count": 28,
   "id": "83ed5fba",
   "metadata": {},
   "outputs": [
    {
     "name": "stdout",
     "output_type": "stream",
     "text": [
      "Area: 18.84\n"
     ]
    }
   ],
   "source": [
    "#۳محاسبه محیط دایره به شعاع  \n",
    "\n",
    "class cycle:\n",
    "        r=3\n",
    "        def area(self):\n",
    "            a=2*3.14*self.r\n",
    "            print(\"Area:\",a)\n",
    "\n",
    "c=cycle()\n",
    "c.area()"
   ]
  },
  {
   "cell_type": "code",
   "execution_count": 29,
   "id": "8e0756f6",
   "metadata": {},
   "outputs": [
    {
     "name": "stdout",
     "output_type": "stream",
     "text": [
      "enter redius:3\n",
      "Area: 18.84\n"
     ]
    }
   ],
   "source": [
    "#محاسبه محیط دایره\n",
    "\n",
    "class cycle:\n",
    "    def readr(self):\n",
    "        self.r=float(input(\"enter redius:\"))\n",
    "                \n",
    "    def area(self):\n",
    "        self.a=2*3.14*self.r\n",
    "        print(\"Area:\",self.a)\n",
    "\n",
    "c=cycle()\n",
    "c.readr()\n",
    "c.area()"
   ]
  },
  {
   "cell_type": "code",
   "execution_count": 30,
   "id": "761df082",
   "metadata": {},
   "outputs": [
    {
     "name": "stdout",
     "output_type": "stream",
     "text": [
      "enter r:3\n",
      "Area: 18.84\n"
     ]
    }
   ],
   "source": [
    "#  محاسبه محیط دایره با سازنده\n",
    "\n",
    "class cycle:\n",
    "        def __init__(self,y):\n",
    "            self.r=y\n",
    "            \n",
    "        def area(self):\n",
    "            self.a=2*3.14*self.r\n",
    "            print(\"Area:\",self.a)\n",
    "\n",
    "x=float(input(\"enter r:\"))\n",
    "c=cycle(x)\n",
    "c.area()\n"
   ]
  },
  {
   "cell_type": "code",
   "execution_count": 27,
   "id": "72c0bcf1",
   "metadata": {},
   "outputs": [
    {
     "name": "stdout",
     "output_type": "stream",
     "text": [
      "<__main__.Circle object at 0x00000292E6AB0A90>\n",
      "13.854423602330987\n",
      "2.1\n",
      "<__main__.Circle object at 0x00000292E6B9E8D0>\n",
      "3.141592653589793\n"
     ]
    }
   ],
   "source": [
    "#  محاسبه محیط دایره با سازنده- روش دوم\n",
    "\n",
    "from math import pi\n",
    " \n",
    "class Circle:    \n",
    "     \n",
    "    def __init__(self, r=1):\n",
    "        self.radius = r  # Create an instance variable radius\n",
    "      \n",
    "    def get_area(self):\n",
    "        \"\"\"Return the area of this Circle instance\"\"\"\n",
    "        return self.radius * self.radius * pi\n",
    " \n",
    "c1 = Circle(2.1)      # Construct an instance\n",
    "print(c1)             \n",
    "print(c1.get_area())  # 13.854423602330987\n",
    "print(c1.radius)      # 2.1\n",
    "\n",
    "c2 = Circle()         # Default radius\n",
    "print(c2)\n",
    "print(c2.get_area())  # Invoke member method\n",
    " \n",
    "    "
   ]
  },
  {
   "cell_type": "code",
   "execution_count": 20,
   "id": "c8be017e",
   "metadata": {},
   "outputs": [
    {
     "name": "stdout",
     "output_type": "stream",
     "text": [
      "I can eat!\n",
      "I can sleep!\n",
      "I can bark! Woof woof!!\n"
     ]
    }
   ],
   "source": [
    "#ارث بری ساده \n",
    "\n",
    "# base class\n",
    "class Animal:\n",
    "    \n",
    "    def eat(self):\n",
    "        print( \"I can eat!\")\n",
    "    \n",
    "    def sleep(self):\n",
    "        print(\"I can sleep!\")\n",
    "\n",
    "# derived class\n",
    "class Dog(Animal):\n",
    "    \n",
    "    def bark(self):\n",
    "        print(\"I can bark! Woof woof!!\")\n",
    "\n",
    "# Create object of the Dog class\n",
    "dog1 = Dog()\n",
    "\n",
    "# Calling members of the base class\n",
    "dog1.eat()\n",
    "dog1.sleep()\n",
    "\n",
    "# Calling member of the derived class\n",
    "dog1.bark();       \n",
    "        \n",
    "        \n",
    "        "
   ]
  },
  {
   "cell_type": "code",
   "execution_count": 22,
   "id": "b4bf7f69",
   "metadata": {},
   "outputs": [
    {
     "name": "stdout",
     "output_type": "stream",
     "text": [
      "I can eat!\n",
      "I can sleep!\n",
      "I can bark! Woof woof!!\n",
      "I can eat!\n",
      "Cat is meowing...\n"
     ]
    }
   ],
   "source": [
    "#ارث بری دو فرزندی \n",
    "\n",
    "# base class\n",
    "class Animal:\n",
    "    \n",
    "    def eat(self):\n",
    "        print( \"I can eat!\")\n",
    "    \n",
    "    def sleep(self):\n",
    "        print(\"I can sleep!\")\n",
    "\n",
    "# derived class\n",
    "class Dog(Animal):\n",
    "    def bark(self):\n",
    "        print(\"I can bark! Woof woof!!\")\n",
    "        \n",
    "class Cat(Animal):\n",
    "    def speak(self):\n",
    "        print(\"Cat is meowing...\")\n",
    "        \n",
    "        \n",
    "# Create object of the Dog class\n",
    "dog1 = Dog()\n",
    "\n",
    "# Calling members of the base class\n",
    "dog1.eat()\n",
    "dog1.sleep()\n",
    "\n",
    "# Calling member of the derived class\n",
    "dog1.bark();   \n",
    "\n",
    "# Create object of the Cat class\n",
    "cat1=Cat()\n",
    "\n",
    "cat1.eat()\n",
    "cat1.speak()\n",
    "\n",
    "        "
   ]
  },
  {
   "cell_type": "code",
   "execution_count": 23,
   "id": "ac5dfae5",
   "metadata": {},
   "outputs": [
    {
     "name": "stdout",
     "output_type": "stream",
     "text": [
      "Animal is speaking...\n",
      "I can eat!\n",
      "Dog is barking...\n",
      "Cat is meowing...\n"
     ]
    }
   ],
   "source": [
    "#چند ریختی\n",
    "#Polymorphism\n",
    "\n",
    "class Animal:\n",
    "    def eat(self):\n",
    "        print( \"I can eat!\")\n",
    "        \n",
    "    def speak(self):\n",
    "        print(\"Animal is speaking...\")\n",
    "\n",
    "class Dog(Animal):\n",
    "    def speak(self):\n",
    "        print(\"Dog is barking...\")\n",
    "\n",
    "class Cat(Animal):\n",
    "    def speak(self):\n",
    "        print(\"Cat is meowing...\")\n",
    "\n",
    "# Create objects of the different classes\n",
    "animal = Animal()\n",
    "dog = Dog()\n",
    "cat = Cat()\n",
    "\n",
    "# Call the speak() method on each object\n",
    "animal.speak()  # Output: Animal is speaking...\n",
    "animal.eat()    #  Output:I can eat!\n",
    "\n",
    "dog.speak()     # Output: Dog is barking...\n",
    "cat.speak()     # Output: Cat is meowing...\n",
    "cat.eat()       # Output:I can eat!"
   ]
  },
  {
   "cell_type": "code",
   "execution_count": 24,
   "id": "5090c006",
   "metadata": {},
   "outputs": [
    {
     "name": "stdout",
     "output_type": "stream",
     "text": [
      "6 8\n"
     ]
    }
   ],
   "source": [
    "#سربارگذاری عملگر + برای جمع دو نقطه دو بعدی\n",
    "#Operator Overloading\n",
    "\n",
    "class Point:\n",
    "    def __init__(self, x, y):\n",
    "        self.x = x\n",
    "        self.y = y\n",
    "\n",
    "    def __add__(self, point):\n",
    "        x = self.x + point.x\n",
    "        y = self.y + point.y\n",
    "        return Point(x, y)\n",
    "\n",
    "p1 = Point(4, 5)\n",
    "p2 = Point(2, 3)\n",
    "\n",
    "p3 = p1 + p2\n",
    "# p3 is (6, 8)\n",
    "print(p3.x,p3.y)"
   ]
  }
 ],
 "metadata": {
  "kernelspec": {
   "display_name": "Python 3 (ipykernel)",
   "language": "python",
   "name": "python3"
  },
  "language_info": {
   "codemirror_mode": {
    "name": "ipython",
    "version": 3
   },
   "file_extension": ".py",
   "mimetype": "text/x-python",
   "name": "python",
   "nbconvert_exporter": "python",
   "pygments_lexer": "ipython3",
   "version": "3.11.4"
  }
 },
 "nbformat": 4,
 "nbformat_minor": 5
}
