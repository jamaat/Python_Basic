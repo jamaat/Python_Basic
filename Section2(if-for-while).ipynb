{
 "cells": [
  {
   "cell_type": "code",
   "execution_count": 1,
   "id": "ee39dcd3",
   "metadata": {},
   "outputs": [
    {
     "name": "stdout",
     "output_type": "stream",
     "text": [
      "Positive number\n"
     ]
    }
   ],
   "source": [
    "num = 1\n",
    "if num >0:\n",
    "   print(\"Positive number\")"
   ]
  },
  {
   "cell_type": "code",
   "execution_count": 2,
   "id": "b52a5493",
   "metadata": {},
   "outputs": [
    {
     "name": "stdout",
     "output_type": "stream",
     "text": [
      "Enter a number: -4\n",
      "Negative number\n"
     ]
    }
   ],
   "source": [
    "#یک عدد از ورودی خوانده و تشخیص دهد مثبت یا منفی است\n",
    "\n",
    "num = float(input(\"Enter a number: \"))\n",
    "\n",
    "if num >= 0:\n",
    "   print(\"Positive number\")\n",
    "else:\n",
    "   print(\"Negative number\")"
   ]
  },
  {
   "cell_type": "code",
   "execution_count": 3,
   "id": "8ac31ab9",
   "metadata": {},
   "outputs": [
    {
     "name": "stdout",
     "output_type": "stream",
     "text": [
      "Enter a number: 0\n",
      "Zero\n"
     ]
    }
   ],
   "source": [
    "#یک عدد از ورودی خوانده و تشخیص دهد مثبت، صفر یا منفی است\n",
    "\n",
    "num = float(input(\"Enter a number: \"))\n",
    "\n",
    "if num > 0:\n",
    "   print(\"Positive number\")\n",
    "elif num == 0:\n",
    "   print(\"Zero\")\n",
    "else:\n",
    "   print(\"Negative number\")"
   ]
  },
  {
   "cell_type": "code",
   "execution_count": 8,
   "id": "31eea440",
   "metadata": {},
   "outputs": [
    {
     "name": "stdout",
     "output_type": "stream",
     "text": [
      "please Enter integer number: 3\n",
      "Your number is odd\n"
     ]
    }
   ],
   "source": [
    "#یک عدد از ورودی خوانده و تشخیص دهد زوج یا فرد است\n",
    "\n",
    "number = int(input(\"please Enter integer number: \"))\n",
    "             \n",
    "if number % 2 == 0:\n",
    "        print('Your number is even')\n",
    "else:\n",
    "        print('Your number is odd')"
   ]
  },
  {
   "cell_type": "code",
   "execution_count": 9,
   "id": "1aea9b06",
   "metadata": {},
   "outputs": [
    {
     "name": "stdout",
     "output_type": "stream",
     "text": [
      "please Enter integer number1: 1\n",
      "please Enter integer number2: 2\n",
      "please Enter integer number3: 3\n",
      "3\n"
     ]
    }
   ],
   "source": [
    "#سه عدد از ورودی خوانده و بزرگترین آنها را چاپ کند\n",
    "\n",
    "n1 = int(input(\"please Enter integer number1: \"))\n",
    "n2 = int(input(\"please Enter integer number2: \"))\n",
    "n3 = int(input(\"please Enter integer number3: \"))\n",
    "\n",
    "if n1 >= n2 and n1 >= n3:\n",
    "  print(n1)\n",
    "elif n2 >= n1 and n2 >= n3:\n",
    "  print(n2)\n",
    "else:\n",
    "    print(n3)"
   ]
  },
  {
   "cell_type": "code",
   "execution_count": 10,
   "id": "16ca4643",
   "metadata": {},
   "outputs": [
    {
     "name": "stdout",
     "output_type": "stream",
     "text": [
      "please Enter temperature: 23\n",
      "nice weather\n",
      "go and play outside\n",
      "end\n"
     ]
    }
   ],
   "source": [
    "#دما را از ورودی گرفته و وضعیت آنر را چاپ کند\n",
    "\n",
    "temperature = int(input(\"please Enter temperature: \"))\n",
    "\n",
    "if temperature > 30: \n",
    "    print(\"hot\")\n",
    "    print(\"drink water\")\n",
    "elif temperature > 20: \n",
    "    print(\"nice weather\")\n",
    "    print(\"go and play outside\")\n",
    "else: # در غیر این صورت\n",
    "    print(\"cold\")\n",
    "print(\"end\")"
   ]
  },
  {
   "cell_type": "code",
   "execution_count": 11,
   "id": "499f930d",
   "metadata": {},
   "outputs": [
    {
     "name": "stdout",
     "output_type": "stream",
     "text": [
      "Please Enter a: 1\n",
      "Please Enter b: 4\n",
      "Please Enter c: 2\n",
      "Root is:\n",
      " X1=  -0.5857864376269049 \n",
      "X2=  -3.414213562373095\n"
     ]
    }
   ],
   "source": [
    "#حل معادله درجه ۲\n",
    "\n",
    "import math\n",
    "\n",
    "a=int(input(\"Please Enter a: \"))\n",
    "b=int(input(\"Please Enter b: \"))\n",
    "c=int(input(\"Please Enter c: \"))\n",
    "\n",
    "delta=b*b-4*a*c\n",
    "\n",
    "if delta==0 :\n",
    "    x=(-b + math.sqrt(delta))\n",
    "    print(\"Root is: X=\",x)\n",
    "elif delta<0:\n",
    "    print(\"No Root!\")\n",
    "else :    \n",
    "    x1=(-b + math.sqrt(delta))/(2*a)\n",
    "    x2=(-b - math.sqrt(delta))/(2*a)\n",
    "    print(\"Root is:\\n X1= \",x1, \"\\nX2= \" , x2)"
   ]
  },
  {
   "cell_type": "code",
   "execution_count": 12,
   "id": "82124265",
   "metadata": {},
   "outputs": [
    {
     "name": "stdout",
     "output_type": "stream",
     "text": [
      "please input your number: 10\n",
      "The sum is: 55\n"
     ]
    }
   ],
   "source": [
    "#یک عدد از ورودی خوانده و مجموع اعداد صفر تا آن عدد را محاسبه و چاپ کند\n",
    "\n",
    "number = int(input(\"please input your number: \"))\n",
    "\n",
    "sum = 0\n",
    "for i in range(number+1):\n",
    "    sum=sum+i\n",
    "    \n",
    "print(\"The sum is:\",sum)"
   ]
  },
  {
   "cell_type": "code",
   "execution_count": 13,
   "id": "f389cb7b",
   "metadata": {},
   "outputs": [
    {
     "name": "stdout",
     "output_type": "stream",
     "text": [
      "please input your number: 10\n",
      "The sum is: 30\n"
     ]
    }
   ],
   "source": [
    "#یک عدد از ورودی خوانده و مجموع اعداد زوج صفر تا آن عدد را محاسبه و چاپ کند\n",
    "\n",
    "number = int(input(\"please input your number: \"))\n",
    "\n",
    "sum = 0\n",
    "for i in range(0,number+1,2):\n",
    "    sum=sum+i\n",
    "    \n",
    "print(\"The sum is:\",sum)"
   ]
  },
  {
   "cell_type": "code",
   "execution_count": 14,
   "id": "c1fe75f3",
   "metadata": {},
   "outputs": [
    {
     "name": "stdout",
     "output_type": "stream",
     "text": [
      "Enter a Number: 9\n",
      "your number is not prime\n"
     ]
    }
   ],
   "source": [
    "#یک عدد از ورودی خوانده و مشخص کند اول است یا خیر\n",
    "\n",
    "n = int(input(\"Enter a Number: \"))\n",
    "\n",
    "p = 0\n",
    "for i in range(2, n):\n",
    "    if n%i==0:\n",
    "        p = 1\n",
    "        break\n",
    "\n",
    "if p==0:\n",
    "    print(\"your number is prime\")\n",
    "else:\n",
    "    print(\"your number is not prime\")"
   ]
  },
  {
   "cell_type": "code",
   "execution_count": 15,
   "id": "bfe44f23",
   "metadata": {},
   "outputs": [
    {
     "name": "stdout",
     "output_type": "stream",
     "text": [
      "Enter the number: 8\n",
      "1\n",
      "1\n",
      "2\n",
      "3\n",
      "5\n",
      "8\n",
      "13\n",
      "21\n"
     ]
    }
   ],
   "source": [
    "#یک عدد از ورودی خوانده و دنباله فیبوناچی تا آن عدد را محاسبه و چاپ کند\n",
    "\n",
    "# fibonacci series: z = x + y\n",
    "# 1 1 2 3 5 8 13 21\n",
    "# x y z →\n",
    "#   x y z →\n",
    "#     x y z →\n",
    "#       x y z →\n",
    "\n",
    "num = int(input(\"Enter the number: \"))\n",
    "\n",
    "x = 1\n",
    "y = 1\n",
    "for i in range(num):\n",
    "    print(x)\n",
    "    z = x + y\n",
    "    x = y\n",
    "    y = z"
   ]
  },
  {
   "cell_type": "code",
   "execution_count": 16,
   "id": "8e442824",
   "metadata": {},
   "outputs": [
    {
     "name": "stdout",
     "output_type": "stream",
     "text": [
      "1 \n",
      "2 2 \n",
      "3 3 3 \n",
      "4 4 4 4 \n"
     ]
    }
   ],
   "source": [
    "#ساختار عددی زیر را چاپ کند\n",
    "#1 \n",
    "#2 2 \n",
    "#3 3 3 \n",
    "#4 4 4 4\n",
    "\n",
    "for i in range(1, 5):\n",
    "    for j in range(i):\n",
    "        print(i, end=' ')\n",
    "    print()"
   ]
  },
  {
   "cell_type": "code",
   "execution_count": 17,
   "id": "bafc471c",
   "metadata": {},
   "outputs": [
    {
     "name": "stdout",
     "output_type": "stream",
     "text": [
      "Enter the number of rows: 5\n",
      "*****\n",
      "****\n",
      "***\n",
      "**\n",
      "*\n"
     ]
    }
   ],
   "source": [
    "#ساختار شکلی زیر را چاپ کند\n",
    "#*****\n",
    "#****\n",
    "#***\n",
    "#**\n",
    "#*\n",
    "\n",
    "num_rows = int(input(\"Enter the number of rows: \"))\n",
    "\n",
    "for i in range(num_rows):\n",
    "    for num_cols in range(num_rows-i):\n",
    "        print(\"*\", end=\"\")\n",
    "    print()"
   ]
  },
  {
   "cell_type": "code",
   "execution_count": 18,
   "id": "a60fc94f",
   "metadata": {},
   "outputs": [
    {
     "name": "stdout",
     "output_type": "stream",
     "text": [
      "Enter the number: 10\n",
      "The sum is 25\n"
     ]
    }
   ],
   "source": [
    "#یک عدد از ورودی خوانده و مجموع اعداد فرد یک تا آن عدد را محاسبه و چاپ کند\n",
    "\n",
    "num = int(input(\"Enter the number: \"))\n",
    "\n",
    "sum = 0\n",
    "i = 1\n",
    "while i <= num:\n",
    "   sum = sum + i\n",
    "   i = i+2    \n",
    "print(\"The sum is\",sum)"
   ]
  },
  {
   "cell_type": "code",
   "execution_count": 19,
   "id": "501d60c6",
   "metadata": {},
   "outputs": [
    {
     "name": "stdout",
     "output_type": "stream",
     "text": [
      "Enter the number: 10\n",
      "The sum is: 30\n"
     ]
    }
   ],
   "source": [
    "#یک عدد از ورودی خوانده و مجموع اعداد زوج صفر تا آن عدد را محاسبه و چاپ کند(با حلقه while , if)\n",
    "\n",
    "num = int(input(\"Enter the number: \"))\n",
    "\n",
    "sum = 0\n",
    "i = 1\n",
    "while i <= num:\n",
    "    if i%2==0:\n",
    "        sum = sum + i\n",
    "    i = i+1\n",
    "print(\"The sum is:\",sum)"
   ]
  },
  {
   "cell_type": "code",
   "execution_count": 20,
   "id": "fbf2eb1c",
   "metadata": {},
   "outputs": [
    {
     "name": "stdout",
     "output_type": "stream",
     "text": [
      "Enter the number: 8\n",
      "1\n",
      "1\n",
      "2\n",
      "3\n",
      "5\n",
      "8\n"
     ]
    }
   ],
   "source": [
    "#یک عدد از ورودی خوانده و دنباله فیبوناچی تا آن عدد را محاسبه و چاپ کند\n",
    "\n",
    "num = int(input(\"Enter the number: \"))\n",
    "\n",
    "a, b = 1, 1\n",
    "while a <= num:\n",
    "    print(a)\n",
    "    a, b = b, a + b"
   ]
  },
  {
   "cell_type": "code",
   "execution_count": null,
   "id": "fce1e1e3",
   "metadata": {},
   "outputs": [],
   "source": []
  }
 ],
 "metadata": {
  "kernelspec": {
   "display_name": "Python 3 (ipykernel)",
   "language": "python",
   "name": "python3"
  },
  "language_info": {
   "codemirror_mode": {
    "name": "ipython",
    "version": 3
   },
   "file_extension": ".py",
   "mimetype": "text/x-python",
   "name": "python",
   "nbconvert_exporter": "python",
   "pygments_lexer": "ipython3",
   "version": "3.11.4"
  }
 },
 "nbformat": 4,
 "nbformat_minor": 5
}
