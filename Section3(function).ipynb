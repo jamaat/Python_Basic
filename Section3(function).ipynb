{
 "cells": [
  {
   "cell_type": "code",
   "execution_count": 1,
   "id": "231baf5c",
   "metadata": {},
   "outputs": [
    {
     "name": "stdout",
     "output_type": "stream",
     "text": [
      "14\n"
     ]
    }
   ],
   "source": [
    "#  تعریف و پیاده سازی تابع بدون خروجی \n",
    "\n",
    "def function():\n",
    "    a = 14\n",
    "    print(a)\n",
    "    \n",
    "# فراخوانی تابع    \n",
    "function()"
   ]
  },
  {
   "cell_type": "code",
   "execution_count": 2,
   "id": "7fa97235",
   "metadata": {},
   "outputs": [
    {
     "name": "stdout",
     "output_type": "stream",
     "text": [
      "power is: 81\n"
     ]
    }
   ],
   "source": [
    "#  تعریف و پیاده سازی تابع با خروجی\n",
    "\n",
    "def power():\n",
    "    c=x**y\n",
    "    return c\n",
    "\n",
    "x=3\n",
    "y=4\n",
    "z=power()\n",
    "\n",
    "print(\"power is:\",z)"
   ]
  },
  {
   "cell_type": "code",
   "execution_count": 3,
   "id": "c5f285c5",
   "metadata": {},
   "outputs": [
    {
     "name": "stdout",
     "output_type": "stream",
     "text": [
      "power is: 81\n"
     ]
    }
   ],
   "source": [
    "#  فراخوانی تابع در دستور چاپ\n",
    "\n",
    "print(\"power is:\",power())"
   ]
  },
  {
   "cell_type": "code",
   "execution_count": 4,
   "id": "5a9ff95a",
   "metadata": {},
   "outputs": [
    {
     "ename": "NameError",
     "evalue": "name 'c' is not defined",
     "output_type": "error",
     "traceback": [
      "\u001b[1;31m---------------------------------------------------------------------------\u001b[0m",
      "\u001b[1;31mNameError\u001b[0m                                 Traceback (most recent call last)",
      "Cell \u001b[1;32mIn[4], line 3\u001b[0m\n\u001b[0;32m      1\u001b[0m \u001b[38;5;66;03m# دسترسی نداشتن در خارج تابع به متغیرهای داخل تابع(متغیرهای محلی)\u001b[39;00m\n\u001b[1;32m----> 3\u001b[0m \u001b[38;5;28mprint\u001b[39m(\u001b[38;5;124m\"\u001b[39m\u001b[38;5;124mpower is:\u001b[39m\u001b[38;5;124m\"\u001b[39m,c)\n",
      "\u001b[1;31mNameError\u001b[0m: name 'c' is not defined"
     ]
    }
   ],
   "source": [
    "# دسترسی نداشتن در خارج تابع به متغیرهای داخل تابع(متغیرهای محلی)\n",
    "\n",
    "print(\"power is:\",c)"
   ]
  },
  {
   "cell_type": "code",
   "execution_count": 5,
   "id": "5e7faded",
   "metadata": {},
   "outputs": [
    {
     "name": "stdout",
     "output_type": "stream",
     "text": [
      "30\n"
     ]
    }
   ],
   "source": [
    "# ارسال مقادیر صریح به تابع\n",
    "\n",
    "def myFunction(a, b):\n",
    "    c = a + b\n",
    "    return c\n",
    "\n",
    "x = myFunction(10, 20)\n",
    "print(x) "
   ]
  },
  {
   "cell_type": "code",
   "execution_count": 6,
   "id": "0b60e8dd",
   "metadata": {},
   "outputs": [
    {
     "name": "stdout",
     "output_type": "stream",
     "text": [
      "16\n"
     ]
    }
   ],
   "source": [
    "# برگرداندن صریح مقدار از تابع\n",
    "\n",
    "def square(x):\n",
    "  return x*x\n",
    "\n",
    "print(square(4))"
   ]
  },
  {
   "cell_type": "code",
   "execution_count": 7,
   "id": "436ee6ad",
   "metadata": {},
   "outputs": [
    {
     "name": "stdout",
     "output_type": "stream",
     "text": [
      "1 2 3\n"
     ]
    }
   ],
   "source": [
    "#  ارسال آرگوانها هنگام فراخوانی بدون رعایت ترتیب پارامترهای تابع  \n",
    "\n",
    "def function(a, b, c):\n",
    "    print(a, b, c)\n",
    "    \n",
    "function(a=1, c=3, b=2)"
   ]
  },
  {
   "cell_type": "code",
   "execution_count": 8,
   "id": "b5987cdd",
   "metadata": {},
   "outputs": [
    {
     "name": "stdout",
     "output_type": "stream",
     "text": [
      "(1,)\n"
     ]
    }
   ],
   "source": [
    "# مشخص نبودن تعداد آرگومانها\n",
    "\n",
    "def function(*name):\n",
    "    print(name)\n",
    "\n",
    "# ارسال یک آرکومان\n",
    "function(1)"
   ]
  },
  {
   "cell_type": "code",
   "execution_count": 9,
   "id": "681220f3",
   "metadata": {},
   "outputs": [
    {
     "name": "stdout",
     "output_type": "stream",
     "text": [
      "(1, 2, 3)\n"
     ]
    }
   ],
   "source": [
    "#ارسال ۳ آرگومان \n",
    "\n",
    "function(1, 2, 3)"
   ]
  },
  {
   "cell_type": "code",
   "execution_count": 10,
   "id": "80b06e53",
   "metadata": {},
   "outputs": [
    {
     "name": "stdout",
     "output_type": "stream",
     "text": [
      "30\n",
      "35\n"
     ]
    }
   ],
   "source": [
    "# استفاده مجدد از تابع \n",
    "\n",
    "def sum(a, b): \n",
    "    return a + b\n",
    "\n",
    "total=sum(10, 20) \n",
    "print(total)\n",
    "\n",
    "total=sum(5, sum(10, 20))\n",
    "print(total)"
   ]
  },
  {
   "cell_type": "code",
   "execution_count": 11,
   "id": "e002c8cd",
   "metadata": {},
   "outputs": [
    {
     "name": "stdout",
     "output_type": "stream",
     "text": [
      "The value of pi is 3.141592653589793\n"
     ]
    }
   ],
   "source": [
    "# استفاده از تابع کتابخانه ای ریاضی\n",
    "#روش اول\n",
    "\n",
    "import math\n",
    "\n",
    "print(\"The value of pi is\", math.pi)"
   ]
  },
  {
   "cell_type": "code",
   "execution_count": 12,
   "id": "a739429b",
   "metadata": {},
   "outputs": [
    {
     "name": "stdout",
     "output_type": "stream",
     "text": [
      "The value of pi is 3.141592653589793\n"
     ]
    }
   ],
   "source": [
    "# استفاده از تابع کتابخانه ای ریاضی\n",
    "#روش دوم\n",
    "\n",
    "import math as m\n",
    "print(\"The value of pi is\", m.pi)"
   ]
  },
  {
   "cell_type": "code",
   "execution_count": 13,
   "id": "af3e138e",
   "metadata": {},
   "outputs": [
    {
     "name": "stdout",
     "output_type": "stream",
     "text": [
      "The value of pi is 3.141592653589793\n"
     ]
    }
   ],
   "source": [
    "# استفاده از تابع کتابخانه ای ریاضی\n",
    "#روش سوم\n",
    "\n",
    "from math import pi\n",
    "print(\"The value of pi is\", pi)"
   ]
  },
  {
   "cell_type": "code",
   "execution_count": 14,
   "id": "5a756ca9",
   "metadata": {},
   "outputs": [
    {
     "name": "stdout",
     "output_type": "stream",
     "text": [
      "enter your number:5\n",
      "Your number is odd\n"
     ]
    }
   ],
   "source": [
    "# تابع تشخیص زوج یا فرد عدد\n",
    "\n",
    "def odd_even(num):\n",
    "    if num % 2 == 0:\n",
    "        print('Your number is even')\n",
    "    else:\n",
    "        print('Your number is odd')\n",
    "        \n",
    "\n",
    "n= int(input('enter your number:'))       \n",
    "odd_even(n)"
   ]
  },
  {
   "cell_type": "code",
   "execution_count": 15,
   "id": "c43d87d3",
   "metadata": {},
   "outputs": [
    {
     "name": "stdout",
     "output_type": "stream",
     "text": [
      "please Enter first number: 5\n",
      "please Enter second number: 3\n",
      "The Max Number: 5\n"
     ]
    }
   ],
   "source": [
    "# چاپ عدد بزرگ بین دو عدد\n",
    "\n",
    "def max(a,b):\n",
    "    if (a >= b):\n",
    "        return a\n",
    "    else:\n",
    "        return b\n",
    "   \n",
    "number1 = int(input(\"please Enter first number: \"))\n",
    "number2 = int(input(\"please Enter second number: \"))\n",
    "\n",
    "print(\"The Max Number:\", max(number1,number2))"
   ]
  },
  {
   "cell_type": "code",
   "execution_count": 16,
   "id": "efefe06e",
   "metadata": {},
   "outputs": [
    {
     "name": "stdout",
     "output_type": "stream",
     "text": [
      "please Enter integer number1: 2\n",
      "please Enter integer number2: 6\n",
      "please Enter integer number3: 4\n",
      "6\n"
     ]
    }
   ],
   "source": [
    "# چاپ عدد بزرگ بین سه عدد\n",
    "\n",
    "def largest(a, b, c):\n",
    " \"\"\"Return the largest of a, b, and c.\"\"\"\n",
    " if a >= b and a >= c:\n",
    "  return a\n",
    " elif b >= a and b >= c:\n",
    "  return b\n",
    " return c\n",
    "\n",
    "number1 = int(input(\"please Enter integer number1: \"))\n",
    "number2 = int(input(\"please Enter integer number2: \"))  \n",
    "number3 = int(input(\"please Enter integer number3: \")) \n",
    "\n",
    "print (largest(number1, number2,number3))"
   ]
  },
  {
   "cell_type": "code",
   "execution_count": 17,
   "id": "783fea45",
   "metadata": {},
   "outputs": [
    {
     "name": "stdout",
     "output_type": "stream",
     "text": [
      "12\n"
     ]
    }
   ],
   "source": [
    "#ماشین حساب چهار عمل اصلی\n",
    "\n",
    "def calculator(num1,op,num2):\n",
    "    if op=='+':\n",
    "        return num1+num2\n",
    "    elif op=='-':\n",
    "        return num1-num2\n",
    "    elif op=='*':\n",
    "        return num1*num2\n",
    "    elif op=='/':\n",
    "        return num1/num2\n",
    "    else:\n",
    "        return 'your operator is wrong! '\n",
    "\n",
    "result=calculator(10,'+',2)\n",
    "print(result)"
   ]
  },
  {
   "cell_type": "code",
   "execution_count": 18,
   "id": "a84ebda3",
   "metadata": {},
   "outputs": [
    {
     "name": "stdout",
     "output_type": "stream",
     "text": [
      "Enter the number: 10\n",
      "The sum is: 55\n"
     ]
    }
   ],
   "source": [
    "#محاسبه مجموع اعداد یک تا عدد ورودی\n",
    "\n",
    "def sum_1_n(n):\n",
    "    sum = 0\n",
    "    i = 1\n",
    "    while i <= n:\n",
    "       sum = sum + i\n",
    "       i = i+1\n",
    "    return sum\n",
    "\n",
    "num = int(input(\"Enter the number: \"))\n",
    "s=sum_1_n(num)\n",
    "print(\"The sum is:\",s)"
   ]
  },
  {
   "cell_type": "code",
   "execution_count": 23,
   "id": "68f287c0",
   "metadata": {},
   "outputs": [
    {
     "name": "stdout",
     "output_type": "stream",
     "text": [
      "Enter the number: ۱۰\n",
      "The sum is: 30\n"
     ]
    }
   ],
   "source": [
    "#محاسبه مجموع اعداد زوج صفر تا عدد ورودی\n",
    "\n",
    "def sum_even_1_n(n):\n",
    "    sum = 0\n",
    "    i = 1\n",
    "    while i <= n:\n",
    "        if i%2==0:\n",
    "           sum = sum + i\n",
    "        i = i+1\n",
    "    return sum\n",
    "\n",
    "num = int(input(\"Enter the number: \"))\n",
    "s=sum_even_1_n(num)\n",
    "print(\"The sum is:\",s)"
   ]
  },
  {
   "cell_type": "code",
   "execution_count": 24,
   "id": "6731da17",
   "metadata": {},
   "outputs": [
    {
     "name": "stdout",
     "output_type": "stream",
     "text": [
      "enter your number:10\n"
     ]
    },
    {
     "data": {
      "text/plain": [
       "25"
      ]
     },
     "execution_count": 24,
     "metadata": {},
     "output_type": "execute_result"
    }
   ],
   "source": [
    "#مجموع اعداد فرد یک تا عدد ورودی \n",
    "\n",
    "def sum_odd_1_n(n):\n",
    "    sum = 0\n",
    "    for i in range(1,n+1):\n",
    "        if i%2!=0 :\n",
    "            sum += i \n",
    "    return sum  \n",
    "\n",
    "n= int(input('enter your number:'))\n",
    "sum_odd_1_n(n)"
   ]
  },
  {
   "cell_type": "code",
   "execution_count": 25,
   "id": "419060cc",
   "metadata": {},
   "outputs": [
    {
     "name": "stdout",
     "output_type": "stream",
     "text": [
      "enter your number:10\n"
     ]
    },
    {
     "data": {
      "text/plain": [
       "10.0"
      ]
     },
     "execution_count": 25,
     "metadata": {},
     "output_type": "execute_result"
    }
   ],
   "source": [
    "#    محاسبه میانگین تعداد نامشخصی از اعداد ارسالی به تابع \n",
    "\n",
    "def average( *vals ):\n",
    "    total = 0\n",
    "    for val in vals:\n",
    "        total += val\n",
    "    return total/len(vals)\n",
    "\n",
    "n= int(input('enter your number:'))\n",
    "\n",
    "# ارسال یک عدد به تابع\n",
    "average(n)"
   ]
  },
  {
   "cell_type": "code",
   "execution_count": 27,
   "id": "7a28ff54",
   "metadata": {},
   "outputs": [
    {
     "data": {
      "text/plain": [
       "3.0"
      ]
     },
     "execution_count": 27,
     "metadata": {},
     "output_type": "execute_result"
    }
   ],
   "source": [
    "# ارسال سه عدد به تابع\n",
    "\n",
    "average(1, 2, 3, 4, 5)"
   ]
  },
  {
   "cell_type": "code",
   "execution_count": 28,
   "id": "bd2461e5",
   "metadata": {},
   "outputs": [
    {
     "name": "stdout",
     "output_type": "stream",
     "text": [
      "please Enter integer number: 5\n",
      "The factorial of 5 is: 120\n"
     ]
    }
   ],
   "source": [
    "# محاسبه فاکتوریل\n",
    "# روش اول\n",
    "\n",
    "def fact(n):\n",
    "    factorial = 1\n",
    "    for i in range(1, n+1):\n",
    "        factorial = factorial * i\n",
    "    print(\"The factorial of {} is: {}\".format(number, factorial))\n",
    "\n",
    "number = int(input(\"please Enter integer number: \"))    \n",
    "fact(number)"
   ]
  },
  {
   "cell_type": "code",
   "execution_count": 29,
   "id": "9d4b289e",
   "metadata": {},
   "outputs": [
    {
     "name": "stdout",
     "output_type": "stream",
     "text": [
      "please Enter integer number: 5\n",
      "The factorial of 5 is: 120\n"
     ]
    }
   ],
   "source": [
    "# محاسبه فاکتوریل\n",
    "# روش دوم\n",
    "\n",
    "def factorial(n):\n",
    "    if n == 0:\n",
    "        return 1\n",
    "    else:\n",
    "        return n * factorial(n-1)\n",
    "    \n",
    "number = int(input(\"please Enter integer number: \"))\n",
    "result = factorial(number)\n",
    "\n",
    "print(\"The factorial of {} is: {}\".format(number, result))"
   ]
  },
  {
   "cell_type": "code",
   "execution_count": 30,
   "id": "1df7b25e",
   "metadata": {},
   "outputs": [
    {
     "name": "stdout",
     "output_type": "stream",
     "text": [
      "please Enter integer number: 5\n",
      "The factorial of 5 is: 120\n"
     ]
    }
   ],
   "source": [
    "# محاسبه فاکتوریل\n",
    "# روش سوم\n",
    "\n",
    "import math\n",
    "\n",
    "number = int(input(\"please Enter integer number: \"))\n",
    "result = math.factorial(number)\n",
    "print(\"The factorial of {} is: {}\".format(number, result))"
   ]
  },
  {
   "cell_type": "code",
   "execution_count": 31,
   "id": "061d4b9d",
   "metadata": {},
   "outputs": [
    {
     "name": "stdout",
     "output_type": "stream",
     "text": [
      "please Enter integer number: 5\n",
      "The factorial of 5 is: 120\n"
     ]
    }
   ],
   "source": [
    "# محاسبه فاکتوریل\n",
    "# روش چهارم\n",
    "\n",
    "import math\n",
    "\n",
    "number = int(input(\"please Enter integer number: \"))\n",
    "if number < 0:\n",
    "    print(\"Sorry, factorial does not exist for negative numbers\")\n",
    "else:\n",
    "    result = math.factorial(number)\n",
    "    print(\"The factorial of {} is: {}\".format(number, result))"
   ]
  },
  {
   "cell_type": "code",
   "execution_count": 32,
   "id": "ea462c4b",
   "metadata": {},
   "outputs": [
    {
     "name": "stdout",
     "output_type": "stream",
     "text": [
      "please input your number: 9\n",
      "your number is not prime\n"
     ]
    }
   ],
   "source": [
    "# تشخیص عدد اول\n",
    "# روش اول\n",
    "\n",
    "def prime(n):\n",
    "    accumulator = 0\n",
    "    for i in range(1, number+1):\n",
    "        if number%i == 0:\n",
    "            accumulator+=1\n",
    "    if accumulator==2:\n",
    "        print('your number is prime')\n",
    "    else:\n",
    "        print('your number is not prime')\n",
    "        \n",
    "number = int(input('please input your number: '))\n",
    "prime(number)"
   ]
  },
  {
   "cell_type": "code",
   "execution_count": 33,
   "id": "9e550d6b",
   "metadata": {},
   "outputs": [
    {
     "name": "stdout",
     "output_type": "stream",
     "text": [
      "please input your number: 9\n"
     ]
    },
    {
     "data": {
      "text/plain": [
       "False"
      ]
     },
     "execution_count": 33,
     "metadata": {},
     "output_type": "execute_result"
    }
   ],
   "source": [
    "# تشخیص عدد اول\n",
    "# روش دوم\n",
    "\n",
    "def prime(n):\n",
    " divisor = 2\n",
    " while divisor*divisor <= n:\n",
    "    if n % divisor == 0:\n",
    "         return False\n",
    "    divisor += 1\n",
    " return True\n",
    "\n",
    "number = int(input('please input your number: '))\n",
    "prime(number)"
   ]
  },
  {
   "cell_type": "code",
   "execution_count": 34,
   "id": "7ba15a49",
   "metadata": {},
   "outputs": [
    {
     "name": "stdout",
     "output_type": "stream",
     "text": [
      "Enter a Number: 9\n",
      "\n",
      "9 is not a Prime Number\n"
     ]
    }
   ],
   "source": [
    "# تشخیص عدد اول\n",
    "# روش سوم\n",
    "\n",
    "def checkPrime(x):\n",
    "    for i in range(2, x):\n",
    "        if n%i==0:\n",
    "            return 1\n",
    "\n",
    "print(\"Enter a Number: \", end=\"\")\n",
    "n = int(input())\n",
    "\n",
    "p = checkPrime(n)\n",
    "\n",
    "if p==1:\n",
    "    print(\"\\n\" +str(n)+ \" is not a Prime Number\")\n",
    "else:\n",
    "    print(\"\\n\" +str(n)+ \" is a Prime Number\")"
   ]
  },
  {
   "cell_type": "code",
   "execution_count": 35,
   "id": "c58d03c8",
   "metadata": {},
   "outputs": [
    {
     "name": "stdout",
     "output_type": "stream",
     "text": [
      "please Enter integer number: 10\n",
      "55\n"
     ]
    }
   ],
   "source": [
    "#  مجموع اعداد یک تا عدد ورودی بصورت بازگشتی \n",
    "\n",
    "def my_sum(n):\n",
    "    if(n==1):\n",
    "        return 1\n",
    "    else:\n",
    "        return n + my_sum(n-1)\n",
    "    \n",
    "number = int(input(\"please Enter integer number: \"))\n",
    "print((my_sum(number)))"
   ]
  },
  {
   "cell_type": "code",
   "execution_count": 36,
   "id": "1e07846c",
   "metadata": {},
   "outputs": [
    {
     "name": "stdout",
     "output_type": "stream",
     "text": [
      "please Enter integer number1: 2\n",
      "please Enter integer number2: 3\n",
      "8\n"
     ]
    }
   ],
   "source": [
    "#تابع توان بصورت بازگشتی  \n",
    "\n",
    "def my_pow(n, m):\n",
    "    if(m==1):\n",
    "        return n\n",
    "    elif(m==0):\n",
    "        return 1\n",
    "    else:\n",
    "        return n * my_pow(n, m-1)\n",
    "    \n",
    "number1 = int(input(\"please Enter integer number1: \"))\n",
    "number2 = int(input(\"please Enter integer number2: \")) \n",
    "\n",
    "print (my_pow(number1, number2))"
   ]
  },
  {
   "cell_type": "code",
   "execution_count": 37,
   "id": "a3f979c4",
   "metadata": {},
   "outputs": [
    {
     "name": "stdout",
     "output_type": "stream",
     "text": [
      "please Enter integer number: 5\n",
      "8\n"
     ]
    }
   ],
   "source": [
    "#تابع فیبوناچی بصورت بازگشتی  \n",
    "\n",
    "def fib(n):\n",
    "    if n==0 or n==1:\n",
    "        return 1\n",
    "    else:\n",
    "        return fib(n-1)+fib(n-2)\n",
    "\n",
    "number = int(input(\"please Enter integer number: \"))\n",
    "print((fib(number)))"
   ]
  },
  {
   "cell_type": "code",
   "execution_count": 38,
   "id": "b322a3f9",
   "metadata": {},
   "outputs": [
    {
     "name": "stdout",
     "output_type": "stream",
     "text": [
      "Enter the number of Row: 6\n",
      "******\n",
      "*****\n",
      "****\n",
      "***\n",
      "**\n",
      "*\n"
     ]
    }
   ],
   "source": [
    "# چاپ الگوی زیر \n",
    "#*****\n",
    "#****\n",
    "#***\n",
    "#**\n",
    "#*\n",
    "\n",
    "def print_pattern(num):\n",
    "    for i in range(num):\n",
    "        for j in range(num-i):\n",
    "            print(\"*\", end=\"\")\n",
    "        print()\n",
    "        \n",
    "num_rows = int(input(\"Enter the number of Row: \"))    \n",
    "print_pattern(num_rows)"
   ]
  },
  {
   "cell_type": "code",
   "execution_count": 39,
   "id": "d4bde048",
   "metadata": {},
   "outputs": [
    {
     "name": "stdout",
     "output_type": "stream",
     "text": [
      "Enter the number of Row: 6\n",
      "Enter Pattern Character: #\n",
      "######\n",
      "#####\n",
      "####\n",
      "###\n",
      "##\n",
      "#\n"
     ]
    }
   ],
   "source": [
    "# چاپ الگوی بر اساس کاراکتر و تعداد سطرهای ورودی\n",
    "\n",
    "def print_pattern(num,char):\n",
    "    for i in range(num):\n",
    "        for j in range(num-i):\n",
    "            print(char, end=\"\")\n",
    "        print()\n",
    "        \n",
    "num_rows = int(input(\"Enter the number of Row: \")) \n",
    "char_pattern=input(\"Enter Pattern Character: \")\n",
    "\n",
    "print_pattern(num_rows,char_pattern)  "
   ]
  },
  {
   "cell_type": "code",
   "execution_count": 40,
   "id": "c25a93da",
   "metadata": {},
   "outputs": [
    {
     "name": "stdout",
     "output_type": "stream",
     "text": [
      "Sum of numbers 0\n",
      "Sum of numbers 5\n"
     ]
    }
   ],
   "source": [
    "#  مجموع اعداد فرد لیست ارسالی  \n",
    "\n",
    "def print_sum_even_nums(even_nums):\n",
    "    total = 0\n",
    "\n",
    "    for x in even_nums:\n",
    "        if x % 2 != 0:\n",
    "              total = total +x\n",
    "    print(f'Sum of numbers {total}')\n",
    "\n",
    "\n",
    "print_sum_even_nums([2, 4, 6, 8])\n",
    "\n",
    "print_sum_even_nums([2, 4, 5, 8])"
   ]
  }
 ],
 "metadata": {
  "kernelspec": {
   "display_name": "Python 3 (ipykernel)",
   "language": "python",
   "name": "python3"
  },
  "language_info": {
   "codemirror_mode": {
    "name": "ipython",
    "version": 3
   },
   "file_extension": ".py",
   "mimetype": "text/x-python",
   "name": "python",
   "nbconvert_exporter": "python",
   "pygments_lexer": "ipython3",
   "version": "3.11.4"
  }
 },
 "nbformat": 4,
 "nbformat_minor": 5
}
